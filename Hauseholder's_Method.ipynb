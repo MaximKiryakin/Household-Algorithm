{
  "nbformat": 4,
  "nbformat_minor": 0,
  "metadata": {
    "colab": {
      "provenance": [],
      "collapsed_sections": [],
      "authorship_tag": "ABX9TyPFfXSr/mh5WXIVlxXquUtv",
      "include_colab_link": true
    },
    "kernelspec": {
      "name": "python3",
      "display_name": "Python 3"
    },
    "language_info": {
      "name": "python"
    }
  },
  "cells": [
    {
      "cell_type": "markdown",
      "metadata": {
        "id": "view-in-github",
        "colab_type": "text"
      },
      "source": [
        "<a href=\"https://colab.research.google.com/github/MaximKiryakin/Household_Algorithm/blob/main/Hauseholder's_Method.ipynb\" target=\"_parent\"><img src=\"https://colab.research.google.com/assets/colab-badge.svg\" alt=\"Open In Colab\"/></a>"
      ]
    },
    {
      "cell_type": "markdown",
      "source": [
        "#Метод Хаусхолдера (отражений) для приведения симметричных матриц к трёхдиагональному виду\n",
        "\n",
        "\n"
      ],
      "metadata": {
        "id": "XRKdZnthAOiE"
      }
    },
    {
      "cell_type": "markdown",
      "source": [
        "**Теорема 1 (Отражения Хаусхолдера)**: Если $\\vec{x}$ и $\\vec{y}$  - векторы с одинаковыми нормами, существует ортогональная симметричная матрица $P$, такая что \n",
        "$$Y = PX,$$ \n",
        "где \n",
        "$$P = I - 2ww'; \\ \\ \\ w = \\frac{X-Y}{\\rVert X-Y \\lVert_2}$$\n",
        "\n",
        "Посколько $P$ ортогональная и симметричная, отсюда следует, что \n",
        "$$P^{-1} = P$$\n",
        "\n"
      ],
      "metadata": {
        "id": "i8jWFvRLAVng"
      }
    },
    {
      "cell_type": "markdown",
      "source": [
        "**Следствие**"
      ],
      "metadata": {
        "id": "rkMCan4CD6GD"
      }
    },
    {
      "cell_type": "markdown",
      "source": [
        "Пусть $A$ это матрица размера $n \\ $x$\\ n$, и $X$ - любой вектор. Тогда если $k \\in [1, n-2]$, мы можем построить вектор $W_k$ и матрицу $P_k = I - 2W_kW'_k$, \n",
        "такую что $$P_kX = Y$$ "
      ],
      "metadata": {
        "id": "J8ioEDeIEFKy"
      }
    },
    {
      "cell_type": "markdown",
      "source": [
        "Требуется определить $S$, такое что $\\rVert X \\rVert_2  = \\rVert Y \\rVert_2 $, а потом использовать Теорему 1. Должно быть выполнено: $$S^2 = x^2_{k+1} + ... + x^2_{n}$$\n",
        "\n",
        "Это можно проверить, вычислив нормы: $$\\rVert X \\rVert_2 = x^2_{1} + ... + x^2_{n} = x^2_{1} + ... + x^2_{k} + S^2  = \\rVert Y \\rVert_2$$\n",
        "\n",
        "$$w = \\frac{1}{r}(X - Y)  = \\frac{1}{r}[0 ... 0 (x^2_{k+1} + S), x^2_{k+2} ... x^2_{n}] $$\n",
        "\n",
        "Меньшая ошибка вычисления достигается, когда знак $S$ выбирается такой же как и знак $x^2_{k+1}$\n",
        "\n",
        "$$S = sign(x_{k+1})(x^2_{k+1} + ... + x^2_{n})^{0.5}$$\n",
        "\n",
        "Число $R$ выбирается такое, что $\\rVert W \\rVert_2 = 1$, тогда\n",
        "\n",
        "$$R = (x_{k+1} + S)^2 + x^2_{k+2} + ... + x^2_{n}= 2x^2_{k+1}S + 2S^2 $$\n"
      ],
      "metadata": {
        "id": "QLLTdGXEFI8K"
      }
    },
    {
      "cell_type": "markdown",
      "source": [
        "**Теорема 2** Если $P$ это матрица Хаусхолдера, тогда преобразование $PAP$ выполнятся следующим образом:\n",
        "$$v = Aw$$\n",
        "$$c = w'v$$\n",
        "$$q =v- cw$$\n",
        "$$PAP = A - 2wq' -2qw'$$"
      ],
      "metadata": {
        "id": "BrE2cSCAIqiQ"
      }
    },
    {
      "cell_type": "markdown",
      "source": [
        "**Реализация**"
      ],
      "metadata": {
        "id": "RIW-g2SKJ1VR"
      }
    },
    {
      "cell_type": "code",
      "execution_count": null,
      "metadata": {
        "id": "D0l7WHVs63lb"
      },
      "outputs": [],
      "source": [
        "import numpy as np\n",
        "import pandas as pd\n",
        "from tqdm import tqdm"
      ]
    },
    {
      "cell_type": "code",
      "source": [
        "N = 9"
      ],
      "metadata": {
        "id": "4iXf3y0BJ86l"
      },
      "execution_count": null,
      "outputs": []
    },
    {
      "cell_type": "code",
      "source": [
        "%%time\n",
        "a = np.eye(N)\n",
        "for i in range(N):\n",
        "  for j in range(0, i+1):\n",
        "    a[i, j]  = a[j, i] = np.random.randint(1, 7)"
      ],
      "metadata": {
        "id": "dShd1o26J6KY",
        "colab": {
          "base_uri": "https://localhost:8080/"
        },
        "outputId": "3f9c0689-0fe1-40c2-f125-917dfdf16c00"
      },
      "execution_count": null,
      "outputs": [
        {
          "output_type": "stream",
          "name": "stdout",
          "text": [
            "CPU times: user 428 µs, sys: 0 ns, total: 428 µs\n",
            "Wall time: 437 µs\n"
          ]
        }
      ]
    },
    {
      "cell_type": "code",
      "source": [
        "a"
      ],
      "metadata": {
        "colab": {
          "base_uri": "https://localhost:8080/"
        },
        "id": "0eEV60MrsUsi",
        "outputId": "a6e7afa3-2073-41b1-9f4c-2188573e5265"
      },
      "execution_count": null,
      "outputs": [
        {
          "output_type": "execute_result",
          "data": {
            "text/plain": [
              "array([[2., 6., 2., 1., 2., 3., 5., 2., 5.],\n",
              "       [6., 6., 2., 3., 5., 1., 1., 3., 4.],\n",
              "       [2., 2., 3., 2., 2., 3., 3., 1., 5.],\n",
              "       [1., 3., 2., 4., 3., 1., 5., 4., 2.],\n",
              "       [2., 5., 2., 3., 6., 2., 3., 3., 5.],\n",
              "       [3., 1., 3., 1., 2., 3., 6., 6., 1.],\n",
              "       [5., 1., 3., 5., 3., 6., 3., 5., 1.],\n",
              "       [2., 3., 1., 4., 3., 6., 5., 6., 1.],\n",
              "       [5., 4., 5., 2., 5., 1., 1., 1., 4.]])"
            ]
          },
          "metadata": {},
          "execution_count": 27
        }
      ]
    },
    {
      "cell_type": "code",
      "source": [
        "# скрипт с использованием библиотеки numpy\n",
        "for i in tqdm(range(N - 2)):\n",
        "  s = np.sign(a[i+1, i])*np.linalg.norm(a[i + 1:, i])\n",
        "  r = np.sqrt(2 * a[i + 1, i] * s + 2 * s**2)\n",
        "  w = np.zeros(N)\n",
        "  w[i+1] = a[i+1, i] + s\n",
        "  for j in range(i+2, N, 1):\n",
        "    w[j] = a[j, i]\n",
        "  w *= 1/r\n",
        "  V = np.dot(a, w)\n",
        "  c = np.dot(w, V)\n",
        "  q = V - c*w\n",
        "  a = a - 2*np.outer(w, q) - 2*np.outer(q, w)\n",
        "\n",
        "a = np.round(a, 1)"
      ],
      "metadata": {
        "id": "nqqHvLkgLUzg",
        "colab": {
          "base_uri": "https://localhost:8080/"
        },
        "outputId": "5d87d7e5-6644-4dd1-bf12-7c2511f16a4c"
      },
      "execution_count": null,
      "outputs": [
        {
          "output_type": "stream",
          "name": "stderr",
          "text": [
            "100%|██████████| 7/7 [00:00<00:00, 3186.47it/s]\n"
          ]
        }
      ]
    },
    {
      "cell_type": "code",
      "source": [
        "a"
      ],
      "metadata": {
        "colab": {
          "base_uri": "https://localhost:8080/"
        },
        "id": "Z9codpo9sJ0B",
        "outputId": "86dbc2db-e488-4536-b0cc-d8bce3829aa5"
      },
      "execution_count": null,
      "outputs": [
        {
          "output_type": "execute_result",
          "data": {
            "text/plain": [
              "array([[  2. , -10.4,  -0. ,  -0. ,  -0. ,   0. ,  -0. ,   0. ,   0. ],\n",
              "       [-10.4,  19.3,  11.2,  -0. ,   0. ,  -0. ,   0. ,   0. ,  -0. ],\n",
              "       [ -0. ,  11.2,   4.5,   3.8,  -0. ,  -0. ,   0. ,   0. ,   0. ],\n",
              "       [ -0. ,  -0. ,   3.8,   5.1,  -4.9,  -0. ,  -0. ,  -0. ,  -0. ],\n",
              "       [ -0. ,   0. ,  -0. ,  -4.9,   3.2,   2.8,   0. ,  -0. ,   0. ],\n",
              "       [  0. ,  -0. ,   0. ,  -0. ,   2.8,  -0.9,  -2.7,   0. ,  -0. ],\n",
              "       [ -0. ,   0. ,   0. ,  -0. ,   0. ,  -2.7,   1.3,  -2.3,  -0. ],\n",
              "       [  0. ,   0. ,   0. ,  -0. ,  -0. ,   0. ,  -2.3,   0.7,   1.3],\n",
              "       [  0. ,   0. ,   0. ,  -0. ,   0. ,  -0. ,   0. ,   1.3,   1.8]])"
            ]
          },
          "metadata": {},
          "execution_count": 30
        }
      ]
    },
    {
      "cell_type": "code",
      "source": [
        "# Создание матрицы без использования numpy;\n",
        "a = [[0] * N for _ in range(N)]\n",
        "for i in range(N):\n",
        "  for j in range(0, i+1):\n",
        "    a[i][j]  = a[j][i] = np.random.randint(1, 7)"
      ],
      "metadata": {
        "id": "EcNJryEZ7eAG"
      },
      "execution_count": null,
      "outputs": []
    },
    {
      "cell_type": "code",
      "source": [
        "a"
      ],
      "metadata": {
        "colab": {
          "base_uri": "https://localhost:8080/"
        },
        "id": "AMe1SBvOLXtX",
        "outputId": "f9a08de2-1fe4-4dfd-e8b4-3474f59aca83"
      },
      "execution_count": null,
      "outputs": [
        {
          "output_type": "execute_result",
          "data": {
            "text/plain": [
              "[[6, 5, 5, 1, 4, 3, 5, 1, 4],\n",
              " [5, 2, 6, 2, 2, 5, 2, 2, 5],\n",
              " [5, 6, 3, 4, 1, 5, 5, 6, 5],\n",
              " [1, 2, 4, 4, 4, 5, 3, 2, 1],\n",
              " [4, 2, 1, 4, 3, 3, 6, 1, 5],\n",
              " [3, 5, 5, 5, 3, 1, 2, 3, 2],\n",
              " [5, 2, 5, 3, 6, 2, 2, 2, 6],\n",
              " [1, 2, 6, 2, 1, 3, 2, 3, 6],\n",
              " [4, 5, 5, 1, 5, 2, 6, 6, 2]]"
            ]
          },
          "metadata": {},
          "execution_count": 62
        }
      ]
    },
    {
      "cell_type": "code",
      "source": [
        "np.savetxt('matrix.txt', a, delimiter = '', fmt='%10.2f')  "
      ],
      "metadata": {
        "id": "MpglSPXEKAMt"
      },
      "execution_count": null,
      "outputs": []
    },
    {
      "cell_type": "code",
      "source": [
        "# Функцмя внешнего умножения векторов\n",
        "def vector_vector_multiplication(a, b):\n",
        "    size = len(a)\n",
        "    matrix = [[0] * size for _ in range(size)]\n",
        "    if len(a) != len(b) or len(a) != len(matrix):\n",
        "        return 0\n",
        "    for i in range(size):\n",
        "      for j in range(size):\n",
        "         matrix[i][j] = a[i] * b[j]\n",
        "    return matrix\n"
      ],
      "metadata": {
        "id": "0PM7eg_nLe0S"
      },
      "execution_count": null,
      "outputs": []
    },
    {
      "cell_type": "code",
      "source": [
        "# функция умножения матрицы на число\n",
        "def matrix_digit_multiply(a, digit):\n",
        "  size = len(a)\n",
        "  for i in range(size):\n",
        "    for j in range(size):\n",
        "       a[i][j] = a[i][j] * digit;\n",
        "  return a\n"
      ],
      "metadata": {
        "id": "V_Vr-JB_K8-4"
      },
      "execution_count": null,
      "outputs": []
    },
    {
      "cell_type": "code",
      "source": [
        "# фунция вычитания матриц\n",
        "def matrix_subtraction( a, b):\n",
        "  size = len(a)\n",
        "  c = [[0]* size for _ in range(size)]\n",
        "  for i in range(size):\n",
        "    for j in range(size):\n",
        "      c[i][j] = a[i][j] - b[i][j]\n",
        "  return c"
      ],
      "metadata": {
        "id": "sgpG5fjmKVtJ"
      },
      "execution_count": null,
      "outputs": []
    },
    {
      "cell_type": "code",
      "source": [
        "# Функция скалярного умножения векторов\n",
        "def dot(a, b):\n",
        "    ans = 0\n",
        "    size = len(a)\n",
        "    if len(a) != len(b):\n",
        "        return 0\n",
        "    for i in range(size):\n",
        "        ans += a[i] * b[i]\n",
        "    return ans\n"
      ],
      "metadata": {
        "id": "XDyH0YGY8-kT"
      },
      "execution_count": null,
      "outputs": []
    },
    {
      "cell_type": "code",
      "source": [
        "def sign(x):\n",
        "  return 1 if x > 0 else -1 if x < 0 else 0"
      ],
      "metadata": {
        "id": "5GsRB7kKtVDt"
      },
      "execution_count": null,
      "outputs": []
    },
    {
      "cell_type": "code",
      "source": [
        "# Функция умножения матрицы на вектор\n",
        "def dot_matrix_vector(matrix, b):\n",
        "    size = len(matrix)\n",
        "    ans = [0]*size\n",
        "    if len(matrix) != len(b):\n",
        "        return 0\n",
        "\n",
        "    for k in range(size):\n",
        "        ans[k] = 0\n",
        "        for i in range(size):\n",
        "            ans[k] += matrix[k][i] * b[i];\n",
        "    return ans"
      ],
      "metadata": {
        "id": "O2eRw8Jl6niG"
      },
      "execution_count": null,
      "outputs": []
    },
    {
      "cell_type": "code",
      "source": [
        "# скрипт без использования numpy\n",
        "def matrix_transformation(matrix):\n",
        "  size = len(matrix);\n",
        "  for i in range(size - 2):\n",
        "    norm = 0\n",
        "    for j  in range(i+1, size, 1):\n",
        "      norm += matrix[j][i] * matrix[j][i]\n",
        "    norm = norm**0.5\n",
        "\n",
        "    s = sign(matrix[i + 1][i]) * norm\n",
        "    r = (2 * matrix[i + 1][i] * s + 2 * s * s)**0.5\n",
        "\n",
        "    w = [0]*size\n",
        "\n",
        "    w[i + 1] = (matrix[i + 1][i] + s) * (1 / r)\n",
        "\n",
        "    for j in range(i+ 2, size, 1):\n",
        "      w[j] = matrix[j][i] * (1 / r)\n",
        "\n",
        "    v =  dot_matrix_vector(matrix, w)\n",
        "\n",
        "\n",
        "\n",
        "    c = dot(v, w)\n",
        "\n",
        "\n",
        "    q = [0] * size\n",
        "    for j in range(size):\n",
        "      q[j] = v[j] - c * w[j]\n",
        "\n",
        "    tmp1 = vector_vector_multiplication(w, q)\n",
        "    tmp2 = vector_vector_multiplication(q, w)\n",
        "    tmp1 = matrix_digit_multiply(tmp1, 2)\n",
        "    tmp2 = matrix_digit_multiply(tmp2, 2)\n",
        "    matrix = matrix_subtraction(matrix, tmp1)\n",
        "    matrix = matrix_subtraction(matrix, tmp2)\n",
        "  return matrix\n"
      ],
      "metadata": {
        "id": "QtFybl5DMMz_"
      },
      "execution_count": null,
      "outputs": []
    },
    {
      "cell_type": "code",
      "source": [
        "np.savetxt('matrix_transform.txt', a, delimiter = '', fmt='%10.2f')  "
      ],
      "metadata": {
        "id": "fjIfjZlVQBJ7"
      },
      "execution_count": null,
      "outputs": []
    },
    {
      "cell_type": "code",
      "source": [
        "a"
      ],
      "metadata": {
        "id": "8qK9xAIxQF7h",
        "colab": {
          "base_uri": "https://localhost:8080/"
        },
        "outputId": "cfdb178b-21fe-4b88-e6f2-24aa324b81fa"
      },
      "execution_count": null,
      "outputs": [
        {
          "output_type": "execute_result",
          "data": {
            "text/plain": [
              "[[6, 5, 5, 1, 4, 3, 5, 1, 4],\n",
              " [5, 2, 6, 2, 2, 5, 2, 2, 5],\n",
              " [5, 6, 3, 4, 1, 5, 5, 6, 5],\n",
              " [1, 2, 4, 4, 4, 5, 3, 2, 1],\n",
              " [4, 2, 1, 4, 3, 3, 6, 1, 5],\n",
              " [3, 5, 5, 5, 3, 1, 2, 3, 2],\n",
              " [5, 2, 5, 3, 6, 2, 2, 2, 6],\n",
              " [1, 2, 6, 2, 1, 3, 2, 3, 6],\n",
              " [4, 5, 5, 1, 5, 2, 6, 6, 2]]"
            ]
          },
          "metadata": {},
          "execution_count": 70
        }
      ]
    },
    {
      "cell_type": "code",
      "source": [
        "a = matrix_transformation(a)\n",
        "\n",
        "size = len(a)\n",
        "for i in range(size):\n",
        "  for j in range(size):\n",
        "    a[i][j] = round(a[i][j], 2)\n",
        "print(np.array(a))"
      ],
      "metadata": {
        "id": "YqZwppdlOb5l",
        "colab": {
          "base_uri": "https://localhost:8080/"
        },
        "outputId": "099d3968-b460-42eb-a347-b210c8271e95"
      },
      "execution_count": null,
      "outputs": [
        {
          "output_type": "stream",
          "name": "stdout",
          "text": [
            "[[  6.   -10.86   0.     0.     0.     0.    -0.    -0.     0.  ]\n",
            " [-10.86  24.57   9.31  -0.    -0.     0.    -0.    -0.    -0.  ]\n",
            " [  0.     9.31   3.91  -2.55  -0.     0.     0.     0.    -0.  ]\n",
            " [  0.    -0.    -2.55  -0.79   4.29  -0.     0.    -0.    -0.  ]\n",
            " [  0.    -0.    -0.     4.29   0.1    2.67   0.     0.    -0.  ]\n",
            " [  0.     0.     0.    -0.     2.67  -2.05   2.63  -0.     0.  ]\n",
            " [ -0.    -0.     0.    -0.    -0.     2.63   0.87  -4.57  -0.  ]\n",
            " [ -0.    -0.    -0.     0.     0.    -0.    -4.57  -1.6   -2.1 ]\n",
            " [  0.    -0.    -0.    -0.    -0.     0.     0.    -2.1   -5.01]]\n"
          ]
        }
      ]
    },
    {
      "cell_type": "code",
      "source": [
        "import matplotlib.pyplot as plt"
      ],
      "metadata": {
        "id": "4z5M653q_Dgd"
      },
      "execution_count": null,
      "outputs": []
    },
    {
      "cell_type": "code",
      "source": [
        "y = [2, 20, 161, 1312, 11056]\n",
        "x = [256, 512, 1024, 2048, 4096]\n"
      ],
      "metadata": {
        "id": "u118NU_WudOR"
      },
      "execution_count": 47,
      "outputs": []
    },
    {
      "cell_type": "code",
      "source": [
        "import scipy.interpolate"
      ],
      "metadata": {
        "id": "hkEayoYqU11-"
      },
      "execution_count": 48,
      "outputs": []
    },
    {
      "cell_type": "code",
      "source": [
        "f = scipy.interpolate.interp1d(x, y, 'cubic')\n",
        "net = np.linspace(256, 4096, 500)\n",
        "plt.plot(net, f(net), c = 'r')\n",
        "plt.title(\"Asymptotics of the algorithm\")\n",
        "plt.xlabel(\"Matrix dimension\")\n",
        "plt.ylabel(\"Time (sec)\")\n",
        "plt.grid()\n",
        "plt.scatter(x,y)\n",
        "\n",
        "plt.show()"
      ],
      "metadata": {
        "colab": {
          "base_uri": "https://localhost:8080/",
          "height": 295
        },
        "id": "l1MvAHXYU0jz",
        "outputId": "368e4640-eb47-427b-cef0-9b1c76581b70"
      },
      "execution_count": 50,
      "outputs": [
        {
          "output_type": "display_data",
          "data": {
            "text/plain": [
              "<Figure size 432x288 with 1 Axes>"
            ],
            "image/png": "[encoded data removed]"
          },
          "metadata": {
            "needs_background": "light"
          }
        }
      ]
    },
    {
      "cell_type": "code",
      "source": [],
      "metadata": {
        "id": "8tj2LmYWM8Fb"
      },
      "execution_count": null,
      "outputs": []
    }
  ]
}